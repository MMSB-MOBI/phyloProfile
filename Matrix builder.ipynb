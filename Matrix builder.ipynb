{
 "cells": [
  {
   "cell_type": "code",
   "execution_count": 17,
   "id": "8a9a1a9a",
   "metadata": {},
   "outputs": [],
   "source": [
    "import numpy as np"
   ]
  },
  {
   "cell_type": "code",
   "execution_count": 1,
   "id": "3e5966d1",
   "metadata": {},
   "outputs": [],
   "source": [
    "def iter_query_cog(query_orth):\n",
    "    with open(query_orth) as csvfile:\n",
    "        next(csvfile)\n",
    "        for l in csvfile:\n",
    "            buffer = l.split(';')\n",
    "            yield([buffer[4],buffer[5]])"
   ]
  },
  {
   "cell_type": "code",
   "execution_count": 2,
   "id": "4c4e9836",
   "metadata": {},
   "outputs": [],
   "source": [
    "def cog_2_g_list(cog_id,cog_dir):\n",
    "    file_path = f'{cog_dir}/COG_{cog_id}.csv'\n",
    "    g_list = list()\n",
    "    with open(file_path) as csvfile:\n",
    "        next(csvfile)\n",
    "        for l in csvfile:\n",
    "            buffer = l.split(',')\n",
    "            strain = buffer[1]\n",
    "            g_list.append(strain)\n",
    "    return g_list"
   ]
  },
  {
   "cell_type": "code",
   "execution_count": 3,
   "id": "7e20dfb3",
   "metadata": {},
   "outputs": [],
   "source": [
    "def p_dict_builder(query_orth,cog_dir):\n",
    "    p_dict={}\n",
    "    i=0\n",
    "    for cog_id,p_name in iter_query_cog(query_orth):\n",
    "        g_list = cog_2_g_list(cog_id,cog_dir)\n",
    "        p_dict[p_name] = g_list\n",
    "        i=i+1\n",
    "        if i>9:\n",
    "            break\n",
    "    return p_dict"
   ]
  },
  {
   "cell_type": "code",
   "execution_count": 6,
   "id": "6618446b",
   "metadata": {},
   "outputs": [],
   "source": [
    "def index_setter(p_dict):\n",
    "    p_index = list()\n",
    "    g_index = set()\n",
    "    for p_name,g_list in p_dict.items():\n",
    "        p_index.append(p_name)\n",
    "        g_index.update(g_list) \n",
    "    return p_index,g_index"
   ]
  },
  {
   "cell_type": "code",
   "execution_count": 15,
   "id": "53313f5d",
   "metadata": {
    "scrolled": false
   },
   "outputs": [
    {
     "name": "stdout",
     "output_type": "stream",
     "text": [
      "CPU times: user 4.49 ms, sys: 4.04 ms, total: 8.53 ms\n",
      "Wall time: 109 ms\n"
     ]
    }
   ],
   "source": [
    "%%time\n",
    "query_orth ='/Users/mdupuy/Documents/Stage/Pseudomonas_aeruginosa_PA7_119_ortholog_groups.csv'\n",
    "cog_dir='/Users/mdupuy/Documents/Stage/All_COG_groups/'\n",
    "p_dict=p_dict_builder(query_orth,cog_dir)\n",
    "index=index_setter(p_dict)"
   ]
  },
  {
   "cell_type": "code",
   "execution_count": 18,
   "id": "3742015c",
   "metadata": {},
   "outputs": [
    {
     "ename": "TypeError",
     "evalue": "Cannot interpret '10' as a data type",
     "output_type": "error",
     "traceback": [
      "\u001b[0;31m---------------------------------------------------------------------------\u001b[0m",
      "\u001b[0;31mTypeError\u001b[0m                                 Traceback (most recent call last)",
      "\u001b[0;32m/var/folders/pk/53qbvyqj5sl9x18r7_t6h888t8mfxg/T/ipykernel_24200/994851724.py\u001b[0m in \u001b[0;36m<module>\u001b[0;34m\u001b[0m\n\u001b[0;32m----> 1\u001b[0;31m \u001b[0mM\u001b[0m \u001b[0;34m=\u001b[0m \u001b[0mnp\u001b[0m\u001b[0;34m.\u001b[0m\u001b[0mzeros\u001b[0m\u001b[0;34m(\u001b[0m\u001b[0mlen\u001b[0m\u001b[0;34m(\u001b[0m\u001b[0mindex\u001b[0m\u001b[0;34m[\u001b[0m\u001b[0;36m1\u001b[0m\u001b[0;34m]\u001b[0m\u001b[0;34m)\u001b[0m\u001b[0;34m,\u001b[0m\u001b[0mlen\u001b[0m\u001b[0;34m(\u001b[0m\u001b[0mindex\u001b[0m\u001b[0;34m[\u001b[0m\u001b[0;36m0\u001b[0m\u001b[0;34m]\u001b[0m\u001b[0;34m)\u001b[0m\u001b[0;34m)\u001b[0m\u001b[0;34m\u001b[0m\u001b[0;34m\u001b[0m\u001b[0m\n\u001b[0m",
      "\u001b[0;31mTypeError\u001b[0m: Cannot interpret '10' as a data type"
     ]
    }
   ],
   "source": [
    "M = np.zeros(len(index[1]),len(index[0]))"
   ]
  },
  {
   "cell_type": "code",
   "execution_count": 20,
   "id": "fb995ce6",
   "metadata": {},
   "outputs": [
    {
     "data": {
      "text/plain": [
       "10"
      ]
     },
     "execution_count": 20,
     "metadata": {},
     "output_type": "execute_result"
    }
   ],
   "source": [
    "len(index[0])"
   ]
  },
  {
   "cell_type": "code",
   "execution_count": null,
   "id": "a534b85b",
   "metadata": {},
   "outputs": [],
   "source": []
  }
 ],
 "metadata": {
  "kernelspec": {
   "display_name": "Python 3 (ipykernel)",
   "language": "python",
   "name": "python3"
  },
  "language_info": {
   "codemirror_mode": {
    "name": "ipython",
    "version": 3
   },
   "file_extension": ".py",
   "mimetype": "text/x-python",
   "name": "python",
   "nbconvert_exporter": "python",
   "pygments_lexer": "ipython3",
   "version": "3.9.7"
  }
 },
 "nbformat": 4,
 "nbformat_minor": 5
}
