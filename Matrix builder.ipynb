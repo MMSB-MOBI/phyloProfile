{
 "cells": [
  {
   "cell_type": "code",
   "execution_count": 1,
   "id": "2a1d1f8b",
   "metadata": {},
   "outputs": [],
   "source": [
    "def iter_query_cog(querry_orth):\n",
    "    with open(querry_orth) as csvfile:\n",
    "        next(csvfile)\n",
    "        for l in csvfile:\n",
    "            buffer = l.split(';')\n",
    "            yield([buffer[4],buffer[5]])"
   ]
  },
  {
   "cell_type": "code",
   "execution_count": 5,
   "id": "a1fb3dde",
   "metadata": {},
   "outputs": [],
   "source": [
    "def cog_2_g_list(cog_id,cog_dir):\n",
    "    file_path = f'{cog_dir}/COG_{cog_id}.csv'\n",
    "    g_list = set()\n",
    "    with open(file_path) as csvfile:\n",
    "        next(csvfile)\n",
    "        for l in csvfile:\n",
    "            buffer = l.split(',')\n",
    "            strain = buffer[1]\n",
    "            g_list.add(strain)\n",
    "    return g_list"
   ]
  },
  {
   "cell_type": "code",
   "execution_count": 7,
   "id": "67e382c7",
   "metadata": {},
   "outputs": [],
   "source": [
    "p_dict={}\n",
    "i=0\n",
    "for cog_id,p_name in iter_query_cog(query_orth):\n",
    "    g_list = cog_2_g_list(cog_id,cog_dir)\n",
    "    p_dict[p_name] = g_list"
   ]
  },
  {
   "cell_type": "code",
   "execution_count": null,
   "id": "bed1cb23",
   "metadata": {},
   "outputs": [],
   "source": []
  }
 ],
 "metadata": {
  "kernelspec": {
   "display_name": "Python 3 (ipykernel)",
   "language": "python",
   "name": "python3"
  },
  "language_info": {
   "codemirror_mode": {
    "name": "ipython",
    "version": 3
   },
   "file_extension": ".py",
   "mimetype": "text/x-python",
   "name": "python",
   "nbconvert_exporter": "python",
   "pygments_lexer": "ipython3",
   "version": "3.9.7"
  }
 },
 "nbformat": 4,
 "nbformat_minor": 5
}
