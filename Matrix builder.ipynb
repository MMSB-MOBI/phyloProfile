{
 "cells": [
  {
   "cell_type": "code",
   "execution_count": 1,
   "id": "836fa0e6",
   "metadata": {},
   "outputs": [],
   "source": [
    "import numpy as np"
   ]
  },
  {
   "cell_type": "code",
   "execution_count": 2,
   "id": "4b1a5c57",
   "metadata": {},
   "outputs": [],
   "source": [
    "def iter_query_cog(query_orth):\n",
    "    with open(query_orth) as csvfile:\n",
    "        next(csvfile)\n",
    "        for l in csvfile:\n",
    "            buffer = l.split(';')\n",
    "            yield([buffer[4],buffer[5]])"
   ]
  },
  {
   "cell_type": "code",
   "execution_count": 3,
   "id": "f862aa94",
   "metadata": {},
   "outputs": [],
   "source": [
    "def cog_2_g_list(cog_id,cog_dir):\n",
    "    file_path = f'{cog_dir}/COG_{cog_id}.csv'\n",
    "    g_list = list()\n",
    "    with open(file_path) as csvfile:\n",
    "        next(csvfile)\n",
    "        for l in csvfile:\n",
    "            buffer = l.split(',')\n",
    "            strain = buffer[1]\n",
    "            g_list.append(strain)\n",
    "    return g_list"
   ]
  },
  {
   "cell_type": "code",
   "execution_count": 53,
   "id": "76ee32ad",
   "metadata": {},
   "outputs": [],
   "source": [
    "def p_dict_builder(query_orth,cog_dir):\n",
    "    p_dict={}\n",
    "    i=0\n",
    "    for cog_id,p_name in iter_query_cog(query_orth):\n",
    "        g_list = cog_2_g_list(cog_id,cog_dir)\n",
    "        p_dict[p_name] = g_list\n",
    "        #i=i+1\n",
    "        #if i>9:\n",
    "            #break\n",
    "    return p_dict"
   ]
  },
  {
   "cell_type": "code",
   "execution_count": 38,
   "id": "0cd881a2",
   "metadata": {},
   "outputs": [],
   "source": [
    "def index_setter(p_dict):\n",
    "    p_index = list()\n",
    "    g_index = set()\n",
    "    for p_name,g_list in p_dict.items():\n",
    "        p_index.append(p_name)\n",
    "        g_index.update(g_list)\n",
    "    g_index = list(g_index)\n",
    "    return p_index,g_index"
   ]
  },
  {
   "cell_type": "code",
   "execution_count": 49,
   "id": "2678684d",
   "metadata": {},
   "outputs": [],
   "source": [
    "def set_M_values(g_name,p_name,value): \n",
    "    i = m_index[1].index(g_name) #genome index\n",
    "    j = m_index[0].index(p_name) #protein index\n",
    "    M[i,j] = value"
   ]
  },
  {
   "cell_type": "code",
   "execution_count": 54,
   "id": "731ec6b3",
   "metadata": {},
   "outputs": [
    {
     "name": "stdout",
     "output_type": "stream",
     "text": [
      "CPU times: user 4min 25s, sys: 5.87 s, total: 4min 31s\n",
      "Wall time: 5min 58s\n"
     ]
    }
   ],
   "source": [
    "%%time\n",
    "#query_orth ='/Users/mdupuy/Documents/Stage/Pseudomonas_aeruginosa_PA7_119_ortholog_groups.csv'\n",
    "#cog_dir='/Users/mdupuy/Documents/Stage/All_COG_groups/'\n",
    "p_dict=p_dict_builder(query_orth,cog_dir)\n",
    "m_index=index_setter(p_dict)\n",
    "x = len(m_index[1])\n",
    "y = len(m_index[0])\n",
    "M = np.zeros((x,y))\n",
    "for p_name,g_list in p_dict.items():\n",
    "    for g_name in g_list:\n",
    "        set_M_values(g_name,p_name,1)"
   ]
  }
 ],
 "metadata": {
  "kernelspec": {
   "display_name": "Python 3 (ipykernel)",
   "language": "python",
   "name": "python3"
  },
  "language_info": {
   "codemirror_mode": {
    "name": "ipython",
    "version": 3
   },
   "file_extension": ".py",
   "mimetype": "text/x-python",
   "name": "python",
   "nbconvert_exporter": "python",
   "pygments_lexer": "ipython3",
   "version": "3.9.7"
  }
 },
 "nbformat": 4,
 "nbformat_minor": 5
}
