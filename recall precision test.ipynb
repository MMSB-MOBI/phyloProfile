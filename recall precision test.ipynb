{
 "cells": [
  {
   "cell_type": "code",
   "execution_count": 84,
   "id": "f212f865",
   "metadata": {},
   "outputs": [],
   "source": [
    "import itertools as it\n",
    "import pandas as pd"
   ]
  },
  {
   "cell_type": "code",
   "execution_count": 85,
   "id": "baa62481",
   "metadata": {},
   "outputs": [],
   "source": [
    "def iter_pathway(list_pathway):\n",
    "    with open(list_pathway) as file:\n",
    "        for l in file:\n",
    "            if l.strip():\n",
    "                buffer = l.split()\n",
    "                yield(buffer[0])\n",
    "                \n",
    "def pathway_dict_builder(list_pathway,path):\n",
    "    dico = {}\n",
    "    list_pathway = f'{path}{list_pathway}'\n",
    "    for pathway in iter_pathway(list_pathway):\n",
    "        file_path = f'{path}{pathway}.txt'\n",
    "        protein = []\n",
    "        with open(file_path) as file:\n",
    "            for l in file:\n",
    "                protein.append(l.strip('\\n'))\n",
    "        dico.setdefault(pathway,[]).extend(protein)  \n",
    "    return dico\n",
    "\n",
    "def get_kegg_couple(pathway_dict):\n",
    "    kegg_dico = pathway_dict\n",
    "    kegg_couple = set()\n",
    "    kegg_positive = set()\n",
    "    #for each protein in a pathway compute all the possible pair minus double and reverse\n",
    "    for value in kegg_dico.values():\n",
    "        #value_sorted = value.sort() #add sort to keep consistency between couple\n",
    "        #value = sorted(value)\n",
    "        kegg_positive.update(it.combinations(value,2)) \n",
    "    print(len((kegg_positive)))\n",
    "    #add a way to return all the possible couple\n",
    "    pathway_protein = list(pathway_dict.values())\n",
    "    protein = set(it.chain.from_iterable(pathway_protein))\n",
    "    kegg_couple = set(it.combinations(protein,2))\n",
    "    print(len(kegg_couple))\n",
    "    return kegg_couple,kegg_positive\n",
    "\n",
    "def couple_sorter(df,kegg):\n",
    "    print('sorting')\n",
    "    couple_dist={}\n",
    "    dico = df.to_dict('split')\n",
    "    #for couple in it.combinations(dico['index'],2):\n",
    "    for couple in kegg:\n",
    "        try:\n",
    "            dist=df.loc[couple]\n",
    "            #couple.sort() #add sort to keep consistency between couple\n",
    "            #couple = sorted(couple)\n",
    "            couple_dist.setdefault(dist,[]).append(couple)\n",
    "        except:\n",
    "            continue\n",
    "    couple_dist_ord = dict(sorted(couple_dist.items(),reverse=False))\n",
    "    #print(couple_dist_ord)\n",
    "    print('sorted')\n",
    "    return couple_dist_ord"
   ]
  },
  {
   "cell_type": "code",
   "execution_count": 86,
   "id": "6a280a86",
   "metadata": {},
   "outputs": [
    {
     "name": "stdout",
     "output_type": "stream",
     "text": [
      "96500\n",
      "1863415\n",
      "sorting\n",
      "sorted\n"
     ]
    }
   ],
   "source": [
    "import pickle\n",
    "path = 'Data/KEGG/'\n",
    "list_pathway = 'List_126_KEGG_Path_PA7.txt'\n",
    "df = pd.read_pickle('test_score.pkl')\n",
    "\n",
    "pathway_dict = pathway_dict_builder(list_pathway,path)\n",
    "kegg = get_kegg_couple(pathway_dict)\n",
    "couple = couple_sorter(df,kegg[0])"
   ]
  },
  {
   "cell_type": "code",
   "execution_count": 87,
   "id": "5fe21c5d",
   "metadata": {},
   "outputs": [],
   "source": [
    "def recall_precision(couple):\n",
    "    values = list(couple.values())\n",
    "    recall = 0\n",
    "    precision = 1\n",
    "    for key in range(len(list(couple.keys()))):\n",
    "        threshold = key\n",
    "\n",
    "        positive = list(it.chain.from_iterable(values[:threshold]))\n",
    "        negative = list(it.chain.from_iterable(values[threshold:]))\n",
    "\n",
    "        TP = len(kegg[1].intersection(positive))\n",
    "        FN = len(kegg[1].intersection(negative))\n",
    "        FP = len(positive) - TP\n",
    "        TN = len(negative) - FN\n",
    "        try:\n",
    "            recall = TP/(TP+FN)\n",
    "            #precision = TP/(TP+FP)\n",
    "            precision = TP/len(positive)\n",
    "            print(f'recall:{recall},precision:{precision}')\n",
    "        except:\n",
    "            continue\n",
    "    return recall,precision"
   ]
  },
  {
   "cell_type": "code",
   "execution_count": 88,
   "id": "b21e69f1",
   "metadata": {
    "scrolled": false
   },
   "outputs": [
    {
     "name": "stdout",
     "output_type": "stream",
     "text": [
      "recall:0.01759776536312849,precision:0.02074415541652947\n",
      "recall:0.05021486892995273,precision:0.021487086601141934\n",
      "recall:0.08053287494628276,precision:0.021509449121659235\n",
      "recall:0.10620971207563386,precision:0.022029494475913736\n",
      "recall:0.12161581435324452,precision:0.02192353875353449\n",
      "recall:0.13268156424581007,precision:0.022108922695749\n",
      "recall:0.14222174473571123,precision:0.022190336023172625\n",
      "recall:0.1508809626128062,precision:0.022198968769066865\n",
      "recall:0.16104426299957025,precision:0.022281083523592086\n",
      "recall:0.1737645036527718,precision:0.02267832505131858\n",
      "recall:0.18734422002578427,precision:0.023015236144400215\n",
      "recall:0.20225612376450366,precision:0.023556645561700743\n",
      "recall:0.21342930812204555,precision:0.023812320652447518\n",
      "recall:0.22127202406532015,precision:0.02392796979378449\n",
      "recall:0.22853459389772238,precision:0.02413241517011356\n",
      "recall:0.23388483025354534,precision:0.02414141078101955\n",
      "recall:0.23861194671250538,precision:0.02419189696713562\n",
      "recall:0.24411259131929522,precision:0.024341435718341242\n",
      "recall:0.25124623979372585,precision:0.024412955381059656\n",
      "recall:0.25874516544907605,precision:0.02448312388558277\n",
      "recall:0.2657069187795445,precision:0.02466432110289366\n",
      "recall:0.27090674688440053,precision:0.02475715096403262\n",
      "recall:0.2751826385904598,precision:0.024829006141820213\n",
      "recall:0.27917920068758056,precision:0.02477254181188655\n",
      "recall:0.2842286205414697,precision:0.02471839565877103\n"
     ]
    },
    {
     "ename": "KeyboardInterrupt",
     "evalue": "",
     "output_type": "error",
     "traceback": [
      "\u001b[0;31m---------------------------------------------------------------------------\u001b[0m",
      "\u001b[0;31mKeyboardInterrupt\u001b[0m                         Traceback (most recent call last)",
      "\u001b[0;32m/var/folders/pk/53qbvyqj5sl9x18r7_t6h888t8mfxg/T/ipykernel_4778/3615471567.py\u001b[0m in \u001b[0;36m<module>\u001b[0;34m\u001b[0m\n\u001b[0;32m----> 1\u001b[0;31m \u001b[0mrecall_precision\u001b[0m\u001b[0;34m(\u001b[0m\u001b[0mcouple\u001b[0m\u001b[0;34m)\u001b[0m\u001b[0;34m\u001b[0m\u001b[0;34m\u001b[0m\u001b[0m\n\u001b[0m",
      "\u001b[0;32m/var/folders/pk/53qbvyqj5sl9x18r7_t6h888t8mfxg/T/ipykernel_4778/3676526442.py\u001b[0m in \u001b[0;36mrecall_precision\u001b[0;34m(couple)\u001b[0m\n\u001b[1;32m      9\u001b[0m         \u001b[0mnegative\u001b[0m \u001b[0;34m=\u001b[0m \u001b[0mlist\u001b[0m\u001b[0;34m(\u001b[0m\u001b[0mit\u001b[0m\u001b[0;34m.\u001b[0m\u001b[0mchain\u001b[0m\u001b[0;34m.\u001b[0m\u001b[0mfrom_iterable\u001b[0m\u001b[0;34m(\u001b[0m\u001b[0mvalues\u001b[0m\u001b[0;34m[\u001b[0m\u001b[0mthreshold\u001b[0m\u001b[0;34m:\u001b[0m\u001b[0;34m]\u001b[0m\u001b[0;34m)\u001b[0m\u001b[0;34m)\u001b[0m\u001b[0;34m\u001b[0m\u001b[0;34m\u001b[0m\u001b[0m\n\u001b[1;32m     10\u001b[0m \u001b[0;34m\u001b[0m\u001b[0m\n\u001b[0;32m---> 11\u001b[0;31m         \u001b[0mTP\u001b[0m \u001b[0;34m=\u001b[0m \u001b[0mlen\u001b[0m\u001b[0;34m(\u001b[0m\u001b[0mkegg\u001b[0m\u001b[0;34m[\u001b[0m\u001b[0;36m1\u001b[0m\u001b[0;34m]\u001b[0m\u001b[0;34m.\u001b[0m\u001b[0mintersection\u001b[0m\u001b[0;34m(\u001b[0m\u001b[0mpositive\u001b[0m\u001b[0;34m)\u001b[0m\u001b[0;34m)\u001b[0m\u001b[0;34m\u001b[0m\u001b[0;34m\u001b[0m\u001b[0m\n\u001b[0m\u001b[1;32m     12\u001b[0m         \u001b[0mFN\u001b[0m \u001b[0;34m=\u001b[0m \u001b[0mlen\u001b[0m\u001b[0;34m(\u001b[0m\u001b[0mkegg\u001b[0m\u001b[0;34m[\u001b[0m\u001b[0;36m1\u001b[0m\u001b[0;34m]\u001b[0m\u001b[0;34m.\u001b[0m\u001b[0mintersection\u001b[0m\u001b[0;34m(\u001b[0m\u001b[0mnegative\u001b[0m\u001b[0;34m)\u001b[0m\u001b[0;34m)\u001b[0m\u001b[0;34m\u001b[0m\u001b[0;34m\u001b[0m\u001b[0m\n\u001b[1;32m     13\u001b[0m         \u001b[0mFP\u001b[0m \u001b[0;34m=\u001b[0m \u001b[0mlen\u001b[0m\u001b[0;34m(\u001b[0m\u001b[0mpositive\u001b[0m\u001b[0;34m)\u001b[0m \u001b[0;34m-\u001b[0m \u001b[0mTP\u001b[0m\u001b[0;34m\u001b[0m\u001b[0;34m\u001b[0m\u001b[0m\n",
      "\u001b[0;31mKeyboardInterrupt\u001b[0m: "
     ]
    }
   ],
   "source": [
    "recall_precision(couple)"
   ]
  },
  {
   "cell_type": "code",
   "execution_count": 3,
   "id": "656882b9",
   "metadata": {},
   "outputs": [
    {
     "name": "stdout",
     "output_type": "stream",
     "text": [
      "96500\n",
      "1863415\n",
      "sorting\n",
      "sorted\n"
     ]
    }
   ],
   "source": [
    "path = 'Data/KEGG/'\n",
    "list_pathway = 'List_126_KEGG_Path_PA7.txt'\n",
    "df = pd.read_pickle('test_binary_h.pkl')\n",
    "\n",
    "pathway_dict = pathway_dict_builder(list_pathway,path)\n",
    "kegg = get_kegg_couple(pathway_dict)\n",
    "couple = couple_sorter(df,kegg[0])"
   ]
  },
  {
   "cell_type": "code",
   "execution_count": 7,
   "id": "d3132115",
   "metadata": {},
   "outputs": [],
   "source": [
    "total = 0\n",
    "for value in couple.values():\n",
    "    total = total + len(value)"
   ]
  },
  {
   "cell_type": "code",
   "execution_count": 8,
   "id": "81b3b729",
   "metadata": {},
   "outputs": [
    {
     "data": {
      "text/plain": [
       "1721440"
      ]
     },
     "execution_count": 8,
     "metadata": {},
     "output_type": "execute_result"
    }
   ],
   "source": [
    "total"
   ]
  },
  {
   "cell_type": "code",
   "execution_count": null,
   "id": "35fa8147",
   "metadata": {},
   "outputs": [],
   "source": []
  }
 ],
 "metadata": {
  "kernelspec": {
   "display_name": "Python 3 (ipykernel)",
   "language": "python",
   "name": "python3"
  },
  "language_info": {
   "codemirror_mode": {
    "name": "ipython",
    "version": 3
   },
   "file_extension": ".py",
   "mimetype": "text/x-python",
   "name": "python",
   "nbconvert_exporter": "python",
   "pygments_lexer": "ipython3",
   "version": "3.9.7"
  }
 },
 "nbformat": 4,
 "nbformat_minor": 5
}
